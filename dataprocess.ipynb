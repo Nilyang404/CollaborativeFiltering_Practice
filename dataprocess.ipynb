{
 "cells": [
  {
   "cell_type": "code",
   "execution_count": 33,
   "metadata": {},
   "outputs": [],
   "source": [
    "import pandas as pd\n",
    "import numpy as np\n",
    "from matplotlib import pyplot as plt\n",
    "import time"
   ]
  },
  {
   "cell_type": "code",
   "execution_count": 34,
   "metadata": {},
   "outputs": [
    {
     "data": {
      "text/html": [
       "<div>\n",
       "<style scoped>\n",
       "    .dataframe tbody tr th:only-of-type {\n",
       "        vertical-align: middle;\n",
       "    }\n",
       "\n",
       "    .dataframe tbody tr th {\n",
       "        vertical-align: top;\n",
       "    }\n",
       "\n",
       "    .dataframe thead th {\n",
       "        text-align: right;\n",
       "    }\n",
       "</style>\n",
       "<table border=\"1\" class=\"dataframe\">\n",
       "  <thead>\n",
       "    <tr style=\"text-align: right;\">\n",
       "      <th></th>\n",
       "      <th>User_Id</th>\n",
       "      <th>Item_Id</th>\n",
       "      <th>Category_Id</th>\n",
       "      <th>Behavior_type</th>\n",
       "      <th>Timestamp</th>\n",
       "    </tr>\n",
       "  </thead>\n",
       "  <tbody>\n",
       "    <tr>\n",
       "      <th>0</th>\n",
       "      <td>1</td>\n",
       "      <td>2333346</td>\n",
       "      <td>2520771</td>\n",
       "      <td>pv</td>\n",
       "      <td>1511561733</td>\n",
       "    </tr>\n",
       "    <tr>\n",
       "      <th>1</th>\n",
       "      <td>1</td>\n",
       "      <td>2576651</td>\n",
       "      <td>149192</td>\n",
       "      <td>pv</td>\n",
       "      <td>1511572885</td>\n",
       "    </tr>\n",
       "    <tr>\n",
       "      <th>2</th>\n",
       "      <td>1</td>\n",
       "      <td>3830808</td>\n",
       "      <td>4181361</td>\n",
       "      <td>pv</td>\n",
       "      <td>1511593493</td>\n",
       "    </tr>\n",
       "    <tr>\n",
       "      <th>3</th>\n",
       "      <td>1</td>\n",
       "      <td>4365585</td>\n",
       "      <td>2520377</td>\n",
       "      <td>pv</td>\n",
       "      <td>1511596146</td>\n",
       "    </tr>\n",
       "    <tr>\n",
       "      <th>4</th>\n",
       "      <td>1</td>\n",
       "      <td>4606018</td>\n",
       "      <td>2735466</td>\n",
       "      <td>pv</td>\n",
       "      <td>1511616481</td>\n",
       "    </tr>\n",
       "  </tbody>\n",
       "</table>\n",
       "</div>"
      ],
      "text/plain": [
       "   User_Id  Item_Id  Category_Id Behavior_type   Timestamp\n",
       "0        1  2333346      2520771            pv  1511561733\n",
       "1        1  2576651       149192            pv  1511572885\n",
       "2        1  3830808      4181361            pv  1511593493\n",
       "3        1  4365585      2520377            pv  1511596146\n",
       "4        1  4606018      2735466            pv  1511616481"
      ]
     },
     "execution_count": 34,
     "metadata": {},
     "output_type": "execute_result"
    }
   ],
   "source": [
    "# 数据读取前1million\n",
    "file_path =r\"UserBehavior.csv\"\n",
    "data=pd.read_csv(file_path,nrows = 1000000)\n",
    "data.columns=['User_Id','Item_Id','Category_Id','Behavior_type','Timestamp']\n",
    "data.head(5)"
   ]
  },
  {
   "cell_type": "code",
   "execution_count": 35,
   "metadata": {},
   "outputs": [
    {
     "name": "stdout",
     "output_type": "stream",
     "text": [
      "False    1000000\n",
      "Name: Timestamp, dtype: int64\n",
      "False    1000000\n",
      "Name: Item_Id, dtype: int64\n"
     ]
    }
   ],
   "source": [
    "# 一、数据读取和数据清洗\n",
    "# 1.检查空值 ---检查结果数据无空值\n",
    "print(pd.isnull(data[\"Timestamp\"]).value_counts())\n",
    "print(pd.isnull(data[\"Item_Id\"]).value_counts())"
   ]
  },
  {
   "cell_type": "code",
   "execution_count": 36,
   "metadata": {},
   "outputs": [
    {
     "name": "stdout",
     "output_type": "stream",
     "text": [
      "Empty DataFrame\n",
      "Columns: [User_Id, Item_Id, Category_Id, Behavior_type, Timestamp]\n",
      "Index: []\n",
      "pv      896106\n",
      "cart     55447\n",
      "fav      28088\n",
      "buy      20359\n",
      "Name: Behavior_type, dtype: int64\n",
      "Empty DataFrame\n",
      "Columns: [User_Id, Item_Id, Category_Id, Behavior_type, Timestamp]\n",
      "Index: []\n",
      "pv      896106\n",
      "cart     55447\n",
      "fav      28088\n",
      "buy      20359\n",
      "Name: Behavior_type, dtype: int64\n",
      "<class 'pandas.core.frame.DataFrame'>\n",
      "Int64Index: 1000000 entries, 0 to 999999\n",
      "Data columns (total 5 columns):\n",
      " #   Column         Non-Null Count    Dtype \n",
      "---  ------         --------------    ----- \n",
      " 0   User_Id        1000000 non-null  int64 \n",
      " 1   Item_Id        1000000 non-null  int64 \n",
      " 2   Category_Id    1000000 non-null  int64 \n",
      " 3   Behavior_type  1000000 non-null  object\n",
      " 4   Timestamp      1000000 non-null  int64 \n",
      "dtypes: int64(4), object(1)\n",
      "memory usage: 45.8+ MB\n",
      "None\n"
     ]
    },
    {
     "data": {
      "text/html": [
       "<div>\n",
       "<style scoped>\n",
       "    .dataframe tbody tr th:only-of-type {\n",
       "        vertical-align: middle;\n",
       "    }\n",
       "\n",
       "    .dataframe tbody tr th {\n",
       "        vertical-align: top;\n",
       "    }\n",
       "\n",
       "    .dataframe thead th {\n",
       "        text-align: right;\n",
       "    }\n",
       "</style>\n",
       "<table border=\"1\" class=\"dataframe\">\n",
       "  <thead>\n",
       "    <tr style=\"text-align: right;\">\n",
       "      <th></th>\n",
       "      <th>User_Id</th>\n",
       "      <th>Item_Id</th>\n",
       "      <th>Category_Id</th>\n",
       "      <th>Behavior_type</th>\n",
       "      <th>Timestamp</th>\n",
       "    </tr>\n",
       "  </thead>\n",
       "  <tbody>\n",
       "    <tr>\n",
       "      <th>0</th>\n",
       "      <td>1</td>\n",
       "      <td>2333346</td>\n",
       "      <td>2520771</td>\n",
       "      <td>pv</td>\n",
       "      <td>1511561733</td>\n",
       "    </tr>\n",
       "    <tr>\n",
       "      <th>1</th>\n",
       "      <td>1</td>\n",
       "      <td>2576651</td>\n",
       "      <td>149192</td>\n",
       "      <td>pv</td>\n",
       "      <td>1511572885</td>\n",
       "    </tr>\n",
       "    <tr>\n",
       "      <th>2</th>\n",
       "      <td>1</td>\n",
       "      <td>3830808</td>\n",
       "      <td>4181361</td>\n",
       "      <td>pv</td>\n",
       "      <td>1511593493</td>\n",
       "    </tr>\n",
       "    <tr>\n",
       "      <th>3</th>\n",
       "      <td>1</td>\n",
       "      <td>4365585</td>\n",
       "      <td>2520377</td>\n",
       "      <td>pv</td>\n",
       "      <td>1511596146</td>\n",
       "    </tr>\n",
       "    <tr>\n",
       "      <th>4</th>\n",
       "      <td>1</td>\n",
       "      <td>4606018</td>\n",
       "      <td>2735466</td>\n",
       "      <td>pv</td>\n",
       "      <td>1511616481</td>\n",
       "    </tr>\n",
       "  </tbody>\n",
       "</table>\n",
       "</div>"
      ],
      "text/plain": [
       "   User_Id  Item_Id  Category_Id Behavior_type   Timestamp\n",
       "0        1  2333346      2520771            pv  1511561733\n",
       "1        1  2576651       149192            pv  1511572885\n",
       "2        1  3830808      4181361            pv  1511593493\n",
       "3        1  4365585      2520377            pv  1511596146\n",
       "4        1  4606018      2735466            pv  1511616481"
      ]
     },
     "execution_count": 36,
     "metadata": {},
     "output_type": "execute_result"
    }
   ],
   "source": [
    "# 2.检查异常值\n",
    "# 1）Timestamp存在负值\n",
    "print(data[data[\"Timestamp\"]<0])\n",
    "data = data[data[\"Timestamp\"]>0]\n",
    "# 2）Behavior_type存在异常值\n",
    "print(data[\"Behavior_type\"].value_counts())\n",
    "data = data[data[\"Behavior_type\"]!=\"3\"]\n",
    "# 3）检查异常处理结果\n",
    "print(data[data[\"Timestamp\"]<0])\n",
    "print(data[\"Behavior_type\"].value_counts())\n",
    "\n",
    "print(data.info())  # [19999969 rows x 5 columns]\n",
    "data.head()"
   ]
  },
  {
   "cell_type": "code",
   "execution_count": null,
   "metadata": {},
   "outputs": [],
   "source": []
  },
  {
   "cell_type": "code",
   "execution_count": 37,
   "metadata": {},
   "outputs": [
    {
     "name": "stdout",
     "output_type": "stream",
     "text": [
      "False    1000000\n",
      "dtype: int64\n",
      "False    1000000\n",
      "dtype: int64\n"
     ]
    }
   ],
   "source": [
    "# 4.去除重复数据\n",
    "print(data.duplicated().value_counts())\n",
    "data=data.drop_duplicates(subset=['User_Id','Item_Id','Category_Id','Behavior_type','Timestamp'],keep='first')\n",
    "print(data.duplicated().value_counts())\n"
   ]
  },
  {
   "cell_type": "code",
   "execution_count": 38,
   "metadata": {},
   "outputs": [],
   "source": [
    "#删除时间戳\n",
    "#cleaned_data.drop(columns = 'Timestamp',axis = 1,inplace = True)"
   ]
  },
  {
   "cell_type": "code",
   "execution_count": 46,
   "metadata": {},
   "outputs": [
    {
     "data": {
      "text/html": [
       "<div>\n",
       "<style scoped>\n",
       "    .dataframe tbody tr th:only-of-type {\n",
       "        vertical-align: middle;\n",
       "    }\n",
       "\n",
       "    .dataframe tbody tr th {\n",
       "        vertical-align: top;\n",
       "    }\n",
       "\n",
       "    .dataframe thead th {\n",
       "        text-align: right;\n",
       "    }\n",
       "</style>\n",
       "<table border=\"1\" class=\"dataframe\">\n",
       "  <thead>\n",
       "    <tr style=\"text-align: right;\">\n",
       "      <th></th>\n",
       "      <th>User_Id</th>\n",
       "      <th>Item_Id</th>\n",
       "      <th>Category_Id</th>\n",
       "      <th>Behavior_type</th>\n",
       "      <th>Timestamp</th>\n",
       "    </tr>\n",
       "  </thead>\n",
       "  <tbody>\n",
       "    <tr>\n",
       "      <th>0</th>\n",
       "      <td>1</td>\n",
       "      <td>2333346</td>\n",
       "      <td>2520771</td>\n",
       "      <td>1</td>\n",
       "      <td>1511561733</td>\n",
       "    </tr>\n",
       "    <tr>\n",
       "      <th>1</th>\n",
       "      <td>1</td>\n",
       "      <td>2576651</td>\n",
       "      <td>149192</td>\n",
       "      <td>1</td>\n",
       "      <td>1511572885</td>\n",
       "    </tr>\n",
       "    <tr>\n",
       "      <th>2</th>\n",
       "      <td>1</td>\n",
       "      <td>3830808</td>\n",
       "      <td>4181361</td>\n",
       "      <td>1</td>\n",
       "      <td>1511593493</td>\n",
       "    </tr>\n",
       "    <tr>\n",
       "      <th>3</th>\n",
       "      <td>1</td>\n",
       "      <td>4365585</td>\n",
       "      <td>2520377</td>\n",
       "      <td>1</td>\n",
       "      <td>1511596146</td>\n",
       "    </tr>\n",
       "    <tr>\n",
       "      <th>4</th>\n",
       "      <td>1</td>\n",
       "      <td>4606018</td>\n",
       "      <td>2735466</td>\n",
       "      <td>1</td>\n",
       "      <td>1511616481</td>\n",
       "    </tr>\n",
       "  </tbody>\n",
       "</table>\n",
       "</div>"
      ],
      "text/plain": [
       "   User_Id  Item_Id  Category_Id Behavior_type   Timestamp\n",
       "0        1  2333346      2520771             1  1511561733\n",
       "1        1  2576651       149192             1  1511572885\n",
       "2        1  3830808      4181361             1  1511593493\n",
       "3        1  4365585      2520377             1  1511596146\n",
       "4        1  4606018      2735466             1  1511616481"
      ]
     },
     "execution_count": 46,
     "metadata": {},
     "output_type": "execute_result"
    }
   ],
   "source": [
    "#编码行为\n",
    "#点击=1 收藏=2 购物车 =3 购买=4 无行为 =0\n",
    "data.loc[data['Behavior_type']=='pv', 'Behavior_type'] = 1\n",
    "data.loc[data['Behavior_type']=='fav', 'Behavior_type'] = 2\n",
    "data.loc[data['Behavior_type']=='cart', 'Behavior_type'] = 3\n",
    "data.loc[data['Behavior_type']=='buy', 'Behavior_type'] = 4\n",
    "data.head()"
   ]
  },
  {
   "cell_type": "code",
   "execution_count": 47,
   "metadata": {},
   "outputs": [
    {
     "name": "stdout",
     "output_type": "stream",
     "text": [
      "False    1000000\n",
      "dtype: int64\n"
     ]
    }
   ],
   "source": [
    "# 5.预处理数据保存\n",
    "data.to_csv(r'cleaned_data_1000_000_1.csv', encoding = 'utf-8', index = False)\n",
    "print(data.duplicated().value_counts())"
   ]
  },
  {
   "cell_type": "code",
   "execution_count": null,
   "metadata": {},
   "outputs": [],
   "source": [
    "print(type(data))"
   ]
  },
  {
   "cell_type": "code",
   "execution_count": null,
   "metadata": {},
   "outputs": [],
   "source": []
  }
 ],
 "metadata": {
  "kernelspec": {
   "display_name": "Python 3",
   "language": "python",
   "name": "python3"
  },
  "language_info": {
   "codemirror_mode": {
    "name": "ipython",
    "version": 3
   },
   "file_extension": ".py",
   "mimetype": "text/x-python",
   "name": "python",
   "nbconvert_exporter": "python",
   "pygments_lexer": "ipython3",
   "version": "3.8.5"
  }
 },
 "nbformat": 4,
 "nbformat_minor": 4
}
